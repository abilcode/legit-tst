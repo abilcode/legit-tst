{
 "cells": [
  {
   "cell_type": "code",
   "execution_count": 3,
   "metadata": {},
   "outputs": [],
   "source": [
    "import numpy as np\n",
    "import pandas as pd\n",
    "import matplotlib.pyplot as plt\n",
    "import seaborn as sns\n",
    "\n",
    "\n",
    "from sklearn.multioutput import MultiOutputRegressor\n",
    "from sklearn.pipeline import Pipeline\n",
    "from sklearn.model_selection import TimeSeriesSplit, GridSearchCV\n",
    "from sklearn.metrics import mean_absolute_error\n",
    "\n",
    "\n",
    "from xgboost import XGBRegressor\n",
    "\n"
   ]
  },
  {
   "cell_type": "code",
   "execution_count": 4,
   "metadata": {},
   "outputs": [
    {
     "name": "stdout",
     "output_type": "stream",
     "text": [
      "<class 'pandas.core.frame.DataFrame'>\n",
      "DatetimeIndex: 791 entries, 2018-01-30 to 2020-03-30\n",
      "Data columns (total 37 columns):\n",
      " #   Column                         Non-Null Count  Dtype  \n",
      "---  ------                         --------------  -----  \n",
      " 0   ActivePower                    791 non-null    float64\n",
      " 1   day_of_week                    791 non-null    int64  \n",
      " 2   day_of_month                   791 non-null    int64  \n",
      " 3   WindSpeed_lag_1D               791 non-null    float64\n",
      " 4   ReactivePower_lag_1D           791 non-null    float64\n",
      " 5   ActivePower_lag_1D             791 non-null    float64\n",
      " 6   WindSpeed_lag_3D               791 non-null    float64\n",
      " 7   ReactivePower_lag_3D           791 non-null    float64\n",
      " 8   ActivePower_lag_3D             791 non-null    float64\n",
      " 9   WindSpeed_lag_7D               791 non-null    float64\n",
      " 10  ReactivePower_lag_7D           791 non-null    float64\n",
      " 11  ActivePower_lag_7D             791 non-null    float64\n",
      " 12  WindSpeed_lag_15D              791 non-null    float64\n",
      " 13  ReactivePower_lag_15D          791 non-null    float64\n",
      " 14  ActivePower_lag_15D            791 non-null    float64\n",
      " 15  WindSpeed_lag_30D              791 non-null    float64\n",
      " 16  ReactivePower_lag_30D          791 non-null    float64\n",
      " 17  ActivePower_lag_30D            791 non-null    float64\n",
      " 18  WindSpeed_window_1D_mean       791 non-null    float64\n",
      " 19  ReactivePower_window_1D_mean   791 non-null    float64\n",
      " 20  ActivePower_window_1D_mean     791 non-null    float64\n",
      " 21  WindSpeed_window_3D_mean       791 non-null    float64\n",
      " 22  ReactivePower_window_3D_mean   791 non-null    float64\n",
      " 23  ActivePower_window_3D_mean     791 non-null    float64\n",
      " 24  WindSpeed_window_7D_mean       791 non-null    float64\n",
      " 25  ReactivePower_window_7D_mean   791 non-null    float64\n",
      " 26  ActivePower_window_7D_mean     791 non-null    float64\n",
      " 27  WindSpeed_window_15D_mean      791 non-null    float64\n",
      " 28  ReactivePower_window_15D_mean  791 non-null    float64\n",
      " 29  ActivePower_window_15D_mean    791 non-null    float64\n",
      " 30  WindSpeed_window_30D_mean      791 non-null    float64\n",
      " 31  ReactivePower_window_30D_mean  791 non-null    float64\n",
      " 32  ActivePower_window_30D_mean    791 non-null    float64\n",
      " 33  month_sin                      791 non-null    float64\n",
      " 34  month_cos                      791 non-null    float64\n",
      " 35  week_sin                       791 non-null    float64\n",
      " 36  week_cos                       791 non-null    float64\n",
      "dtypes: float64(35), int64(2)\n",
      "memory usage: 234.8 KB\n"
     ]
    }
   ],
   "source": [
    "data = pd.read_csv('/Users/abilfad/Desktop/legit/technical_test/code/iter2/data_update_2_final.csv')\n",
    "data.index = data.time\n",
    "data = data.iloc[:,1:]\n",
    "data.index = pd.to_datetime(data.index)\n",
    "data.info()"
   ]
  },
  {
   "cell_type": "code",
   "execution_count": 12,
   "metadata": {},
   "outputs": [],
   "source": [
    "param_grid = {\n",
    "    'n_estimators': [30,40,50,100],\n",
    "    'max_depth': [3, 5, 7],\n",
    "    'learning_rate': [0.01, 0.1, 0.3],\n",
    "    'gamma': [0, 0.1, 0.5],\n",
    "    'reg_alpha': [0.1, 1.0],\n",
    "    'reg_lambda': [ 0.1, 1.0],\n",
    "}"
   ]
  },
  {
   "cell_type": "code",
   "execution_count": 13,
   "metadata": {},
   "outputs": [
    {
     "name": "stdout",
     "output_type": "stream",
     "text": [
      "Best Hyperparameters: {'gamma': 0, 'learning_rate': 0.1, 'max_depth': 3, 'n_estimators': 40, 'reg_alpha': 0.1, 'reg_lambda': 0.1}\n",
      "Best Mean Squared Error: 432.2840892226467\n"
     ]
    }
   ],
   "source": [
    "xgb_model = XGBRegressor()\n",
    "\n",
    "tscv = TimeSeriesSplit(n_splits=5)\n",
    "\n",
    "# Set up the GridSearchCV object\n",
    "grid_search = GridSearchCV(xgb_model, param_grid, cv=tscv, scoring='neg_mean_squared_error')\n",
    "\n",
    "# Fit the GridSearchCV object to the data\n",
    "grid_search.fit(data.iloc[:-30,1:], data.iloc[30:,0])\n",
    "\n",
    "\n",
    "print(f'Best Hyperparameters: {grid_search.best_params_}')\n",
    "print(f'Best Mean Squared Error: {np.sqrt(abs(grid_search.best_score_))}')"
   ]
  },
  {
   "cell_type": "code",
   "execution_count": null,
   "metadata": {},
   "outputs": [],
   "source": []
  }
 ],
 "metadata": {
  "kernelspec": {
   "display_name": "legit-tst-env",
   "language": "python",
   "name": "python3"
  },
  "language_info": {
   "codemirror_mode": {
    "name": "ipython",
    "version": 3
   },
   "file_extension": ".py",
   "mimetype": "text/x-python",
   "name": "python",
   "nbconvert_exporter": "python",
   "pygments_lexer": "ipython3",
   "version": "3.9.7"
  },
  "orig_nbformat": 4
 },
 "nbformat": 4,
 "nbformat_minor": 2
}
