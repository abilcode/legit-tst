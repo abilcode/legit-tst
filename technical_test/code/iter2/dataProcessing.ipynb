{
 "cells": [
  {
   "cell_type": "code",
   "execution_count": 101,
   "metadata": {},
   "outputs": [],
   "source": [
    "import numpy as np\n",
    "import pandas as pd\n",
    "import matplotlib.pyplot as plt\n",
    "import seaborn as sns"
   ]
  },
  {
   "cell_type": "code",
   "execution_count": 102,
   "metadata": {},
   "outputs": [],
   "source": [
    "data = pd.read_csv('/Users/abilfad/Desktop/legit/technical_test/data/Turbine_Data.csv')\n",
    "data['time'] = pd.to_datetime(data['time'])\n",
    "data.index = data['time']\n",
    "data_update = data.fillna(method='ffill').fillna(method='bfill')"
   ]
  },
  {
   "cell_type": "code",
   "execution_count": 103,
   "metadata": {},
   "outputs": [
    {
     "name": "stdout",
     "output_type": "stream",
     "text": [
      "<class 'pandas.core.frame.DataFrame'>\n",
      "DatetimeIndex: 118224 entries, 2017-12-31 00:00:00+00:00 to 2020-03-30 23:50:00+00:00\n",
      "Data columns (total 22 columns):\n",
      " #   Column                        Non-Null Count   Dtype              \n",
      "---  ------                        --------------   -----              \n",
      " 0   time                          118224 non-null  datetime64[ns, UTC]\n",
      " 1   ActivePower                   118224 non-null  float64            \n",
      " 2   AmbientTemperatue             118224 non-null  float64            \n",
      " 3   BearingShaftTemperature       118224 non-null  float64            \n",
      " 4   Blade1PitchAngle              118224 non-null  float64            \n",
      " 5   Blade2PitchAngle              118224 non-null  float64            \n",
      " 6   Blade3PitchAngle              118224 non-null  float64            \n",
      " 7   ControlBoxTemperature         118224 non-null  float64            \n",
      " 8   GearboxBearingTemperature     118224 non-null  float64            \n",
      " 9   GearboxOilTemperature         118224 non-null  float64            \n",
      " 10  GeneratorRPM                  118224 non-null  float64            \n",
      " 11  GeneratorWinding1Temperature  118224 non-null  float64            \n",
      " 12  GeneratorWinding2Temperature  118224 non-null  float64            \n",
      " 13  HubTemperature                118224 non-null  float64            \n",
      " 14  MainBoxTemperature            118224 non-null  float64            \n",
      " 15  NacellePosition               118224 non-null  float64            \n",
      " 16  ReactivePower                 118224 non-null  float64            \n",
      " 17  RotorRPM                      118224 non-null  float64            \n",
      " 18  TurbineStatus                 118224 non-null  float64            \n",
      " 19  WTG                           118224 non-null  object             \n",
      " 20  WindDirection                 118224 non-null  float64            \n",
      " 21  WindSpeed                     118224 non-null  float64            \n",
      "dtypes: datetime64[ns, UTC](1), float64(20), object(1)\n",
      "memory usage: 20.7+ MB\n"
     ]
    }
   ],
   "source": [
    "data_update.info()"
   ]
  },
  {
   "cell_type": "code",
   "execution_count": 104,
   "metadata": {},
   "outputs": [],
   "source": [
    "data_update_day_mean = data_update.resample('D').mean()\n",
    "data_update_day_median = data_update.resample('D').median()\n",
    "data_update_day_std = data_update.resample('D').std()\n",
    "data_update_day_min = data_update.resample('D').min()\n",
    "data_update_day_max = data_update.resample('D').max()\n",
    "\n",
    "data_arr = [data_update_day_median,data_update_day_std,data_update_day_min,data_update_day_max]\n",
    "arr = ['median','std','min','max']\n",
    "for i in range(4):\n",
    "    cols_ = [f'{j}_{arr[i]}' for j in data_arr[i].columns]\n",
    "    data_arr[i].columns = cols_\n",
    "    data_arr[i] = data_arr[i].iloc[:,1:]\n",
    "data_update_day_median,data_update_day_std,data_update_day_min,data_update_day_max = data_arr"
   ]
  },
  {
   "cell_type": "code",
   "execution_count": null,
   "metadata": {},
   "outputs": [],
   "source": []
  }
 ],
 "metadata": {
  "kernelspec": {
   "display_name": "legit-tst",
   "language": "python",
   "name": "python3"
  },
  "language_info": {
   "codemirror_mode": {
    "name": "ipython",
    "version": 3
   },
   "file_extension": ".py",
   "mimetype": "text/x-python",
   "name": "python",
   "nbconvert_exporter": "python",
   "pygments_lexer": "ipython3",
   "version": "3.9.7"
  },
  "orig_nbformat": 4
 },
 "nbformat": 4,
 "nbformat_minor": 2
}
